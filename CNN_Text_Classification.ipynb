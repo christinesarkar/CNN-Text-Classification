{
  "cells": [
    {
      "cell_type": "markdown",
      "metadata": {
        "id": "4ulckWoFVEfj"
      },
      "source": [
        "\n",
        "# CNN text Classification\n",
        "\n",
        "In this project, I used CNNs for text classification and it is based on tensorflow.\n"
      ]
    },
    {
      "cell_type": "markdown",
      "source": [
        "Importing Libraries"
      ],
      "metadata": {
        "id": "B2uAqWnsS1Cz"
      }
    },
    {
      "cell_type": "code",
      "execution_count": null,
      "metadata": {
        "id": "610moVgqVAeW"
      },
      "outputs": [],
      "source": [
        "from keras.datasets import imdb\n",
        "from keras.preprocessing import sequence\n",
        "from keras.models import Sequential\n",
        "from keras.layers import Dense, Dropout, Activation, Flatten\n",
        "from keras.layers import Embedding, Input\n",
        "from keras.layers import Conv1D, MaxPooling1D, BatchNormalization\n",
        "from keras import metrics"
      ]
    },
    {
      "cell_type": "markdown",
      "metadata": {
        "id": "mLOCk6P-fldm"
      },
      "source": [
        "## Word-based CNN for Text Classification\n",
        "\n",
        "### Data\n",
        "\n",
        "The datasetis the imdb dataset of movie reviews. These are labelled by sentiment (positive/negative).\n",
        "\n",
        "The reviews have been preprocessed, and each review is encoded as a sequence of word indexes (integers).\n",
        "\n",
        "For convenience, words are indexed by overall frequency in the dataset, so that for instance the integer \"3\" encodes the 3rd most frequent word in the data. This allows for quick filtering operations such as: \"only consider the top 10,000 most common words, but eliminate the top 20 most common words\".\n",
        "\n"
      ]
    },
    {
      "cell_type": "markdown",
      "source": [
        "**Loading the data**"
      ],
      "metadata": {
        "id": "0pRFtbbP4Xs7"
      }
    },
    {
      "cell_type": "code",
      "execution_count": null,
      "metadata": {
        "colab": {
          "base_uri": "https://localhost:8080/"
        },
        "id": "bR-rpN_HI0i_",
        "outputId": "af8a3c84-8fb3-4219-bda7-52880c0a22b9"
      },
      "outputs": [
        {
          "output_type": "stream",
          "name": "stdout",
          "text": [
            "25000 train sequences\n",
            "25000 test sequences\n"
          ]
        }
      ],
      "source": [
        "(x_train, y_train), (x_test, y_test) = imdb.load_data(num_words=10000)\n",
        "\n",
        "print(len(x_train), 'train sequences')\n",
        "print(len(x_test), 'test sequences')"
      ]
    },
    {
      "cell_type": "markdown",
      "metadata": {
        "id": "iWg-G68bh2uI"
      },
      "source": [
        "###Preprocess the text data\n",
        "\n",
        "In this particular case, where I am using the imdb dataset there is no need to do all the traditional preprocessings that is normally done when dealing with NLP problems. Part of them are already done at this point.\n"
      ]
    },
    {
      "cell_type": "markdown",
      "source": [
        "**Preprocessing and padding**"
      ],
      "metadata": {
        "id": "QhbZI6nKxFFD"
      }
    },
    {
      "cell_type": "code",
      "source": [
        "from keras.preprocessing.sequence import pad_sequences\n",
        "maxlen = 1000\n",
        "x_train = pad_sequences(x_train, maxlen=maxlen, padding='post')\n",
        "x_test = pad_sequences(x_test, maxlen=maxlen, padding='post')\n",
        "print('x_train shape:', x_train.shape)\n",
        "print('x_test shape:', x_test.shape)"
      ],
      "metadata": {
        "colab": {
          "base_uri": "https://localhost:8080/"
        },
        "id": "FOriCKYIwNIQ",
        "outputId": "435579ce-283d-475d-a8b6-7e4fcf02f9bf"
      },
      "execution_count": null,
      "outputs": [
        {
          "output_type": "stream",
          "name": "stdout",
          "text": [
            "x_train shape: (25000, 1000)\n",
            "x_test shape: (25000, 1000)\n"
          ]
        }
      ]
    },
    {
      "cell_type": "markdown",
      "source": [
        "**Creating the model**"
      ],
      "metadata": {
        "id": "QKDbTsMMz7Ak"
      }
    },
    {
      "cell_type": "code",
      "source": [
        "!pip install tensorflow\n",
        "\n",
        "import tensorflow as tf\n",
        "from tensorflow.keras.models import Sequential\n",
        "from tensorflow.keras.layers import Embedding, Conv1D, MaxPooling1D, Dropout, BatchNormalization, Flatten, Dense\n",
        "\n",
        "# Set parameters\n",
        "max_features = 10000\n",
        "maxlen = 1000\n",
        "batch_size = 64\n",
        "embedding_dims = 100\n",
        "filters = 128\n",
        "ks = [3, 5, 5] # kernel_size\n",
        "hidden_dims = 128\n",
        "epochs = 10\n",
        "\n",
        "def get_cnn_model_v1():\n",
        "    # Create the model, no layers yet\n",
        "    model = Sequential()\n",
        "    # Add the layers\n",
        "    # Add an embedding layer which maps our vocab indices (max_features) into embedding_dims dimensions\n",
        "    model.add(Embedding(max_features, embedding_dims, input_length=maxlen))\n",
        "\n",
        "\n",
        "    # dropout layer\n",
        "    model.add(Dropout(0.4))\n",
        "\n",
        "     # Add a Convolution1D layer, with 128 filters, kernel size ks[0], padding same, activation relu and stride 1\n",
        "    model.add(Conv1D(128,\n",
        "                     ks[0],\n",
        "                     padding='valid',\n",
        "                     activation='relu',\n",
        "                     strides=1))\n",
        "    # Use max pooling after the CONV layer\n",
        "    model.add(MaxPooling1D(2))\n",
        "    #  Add a CONV layer, similar in properties to what we have above (3.2.3.) and kernel size 5\n",
        "    model.add(Conv1D(128,\n",
        "                     5,\n",
        "                     padding='valid',\n",
        "                     activation='relu',\n",
        "                     strides=1))\n",
        "    #  Add a Batch Normalization layer in order to reduce overfitting\n",
        "    #model.add(BatchNormalization())\n",
        "    #  Use max pooling again\n",
        "    model.add(MaxPooling1D(2))\n",
        "    #  Add a flatten layer\n",
        "    model.add(Flatten())\n",
        "    #  Add a dense layer with hidden_dims hidden units and activation relu\n",
        "    model.add(Dense(128, activation='relu'))\n",
        "    #  Add a dropout layer with a dropout probability of 0.5\n",
        "    model.add(Dropout(0.5))\n",
        "    #  We project onto a single unit output layer, and squash it with a sigmoid\n",
        "    model.add(Dense(1, activation='sigmoid'))\n",
        "    ##################################################################################\n",
        "\n",
        "    #  Compile the model\n",
        "    model.compile(loss='binary_crossentropy', optimizer='adam', metrics=['accuracy'])\n",
        "\n",
        "    model.summary()\n",
        "\n",
        "    return model"
      ],
      "metadata": {
        "colab": {
          "base_uri": "https://localhost:8080/"
        },
        "id": "GRa1BWJMljZv",
        "outputId": "6eac3cf8-33cf-44af-e02d-1b36e266970f"
      },
      "execution_count": null,
      "outputs": [
        {
          "output_type": "stream",
          "name": "stdout",
          "text": [
            "Requirement already satisfied: tensorflow in /usr/local/lib/python3.10/dist-packages (2.15.0)\n",
            "Requirement already satisfied: absl-py>=1.0.0 in /usr/local/lib/python3.10/dist-packages (from tensorflow) (1.4.0)\n",
            "Requirement already satisfied: astunparse>=1.6.0 in /usr/local/lib/python3.10/dist-packages (from tensorflow) (1.6.3)\n",
            "Requirement already satisfied: flatbuffers>=23.5.26 in /usr/local/lib/python3.10/dist-packages (from tensorflow) (24.3.25)\n",
            "Requirement already satisfied: gast!=0.5.0,!=0.5.1,!=0.5.2,>=0.2.1 in /usr/local/lib/python3.10/dist-packages (from tensorflow) (0.6.0)\n",
            "Requirement already satisfied: google-pasta>=0.1.1 in /usr/local/lib/python3.10/dist-packages (from tensorflow) (0.2.0)\n",
            "Requirement already satisfied: h5py>=2.9.0 in /usr/local/lib/python3.10/dist-packages (from tensorflow) (3.9.0)\n",
            "Requirement already satisfied: libclang>=13.0.0 in /usr/local/lib/python3.10/dist-packages (from tensorflow) (18.1.1)\n",
            "Requirement already satisfied: ml-dtypes~=0.2.0 in /usr/local/lib/python3.10/dist-packages (from tensorflow) (0.2.0)\n",
            "Requirement already satisfied: numpy<2.0.0,>=1.23.5 in /usr/local/lib/python3.10/dist-packages (from tensorflow) (1.25.2)\n",
            "Requirement already satisfied: opt-einsum>=2.3.2 in /usr/local/lib/python3.10/dist-packages (from tensorflow) (3.3.0)\n",
            "Requirement already satisfied: packaging in /usr/local/lib/python3.10/dist-packages (from tensorflow) (24.1)\n",
            "Requirement already satisfied: protobuf!=4.21.0,!=4.21.1,!=4.21.2,!=4.21.3,!=4.21.4,!=4.21.5,<5.0.0dev,>=3.20.3 in /usr/local/lib/python3.10/dist-packages (from tensorflow) (3.20.3)\n",
            "Requirement already satisfied: setuptools in /usr/local/lib/python3.10/dist-packages (from tensorflow) (67.7.2)\n",
            "Requirement already satisfied: six>=1.12.0 in /usr/local/lib/python3.10/dist-packages (from tensorflow) (1.16.0)\n",
            "Requirement already satisfied: termcolor>=1.1.0 in /usr/local/lib/python3.10/dist-packages (from tensorflow) (2.4.0)\n",
            "Requirement already satisfied: typing-extensions>=3.6.6 in /usr/local/lib/python3.10/dist-packages (from tensorflow) (4.12.2)\n",
            "Requirement already satisfied: wrapt<1.15,>=1.11.0 in /usr/local/lib/python3.10/dist-packages (from tensorflow) (1.14.1)\n",
            "Requirement already satisfied: tensorflow-io-gcs-filesystem>=0.23.1 in /usr/local/lib/python3.10/dist-packages (from tensorflow) (0.37.0)\n",
            "Requirement already satisfied: grpcio<2.0,>=1.24.3 in /usr/local/lib/python3.10/dist-packages (from tensorflow) (1.64.1)\n",
            "Requirement already satisfied: tensorboard<2.16,>=2.15 in /usr/local/lib/python3.10/dist-packages (from tensorflow) (2.15.2)\n",
            "Requirement already satisfied: tensorflow-estimator<2.16,>=2.15.0 in /usr/local/lib/python3.10/dist-packages (from tensorflow) (2.15.0)\n",
            "Requirement already satisfied: keras<2.16,>=2.15.0 in /usr/local/lib/python3.10/dist-packages (from tensorflow) (2.15.0)\n",
            "Requirement already satisfied: wheel<1.0,>=0.23.0 in /usr/local/lib/python3.10/dist-packages (from astunparse>=1.6.0->tensorflow) (0.43.0)\n",
            "Requirement already satisfied: google-auth<3,>=1.6.3 in /usr/local/lib/python3.10/dist-packages (from tensorboard<2.16,>=2.15->tensorflow) (2.27.0)\n",
            "Requirement already satisfied: google-auth-oauthlib<2,>=0.5 in /usr/local/lib/python3.10/dist-packages (from tensorboard<2.16,>=2.15->tensorflow) (1.2.0)\n",
            "Requirement already satisfied: markdown>=2.6.8 in /usr/local/lib/python3.10/dist-packages (from tensorboard<2.16,>=2.15->tensorflow) (3.6)\n",
            "Requirement already satisfied: requests<3,>=2.21.0 in /usr/local/lib/python3.10/dist-packages (from tensorboard<2.16,>=2.15->tensorflow) (2.31.0)\n",
            "Requirement already satisfied: tensorboard-data-server<0.8.0,>=0.7.0 in /usr/local/lib/python3.10/dist-packages (from tensorboard<2.16,>=2.15->tensorflow) (0.7.2)\n",
            "Requirement already satisfied: werkzeug>=1.0.1 in /usr/local/lib/python3.10/dist-packages (from tensorboard<2.16,>=2.15->tensorflow) (3.0.3)\n",
            "Requirement already satisfied: cachetools<6.0,>=2.0.0 in /usr/local/lib/python3.10/dist-packages (from google-auth<3,>=1.6.3->tensorboard<2.16,>=2.15->tensorflow) (5.3.3)\n",
            "Requirement already satisfied: pyasn1-modules>=0.2.1 in /usr/local/lib/python3.10/dist-packages (from google-auth<3,>=1.6.3->tensorboard<2.16,>=2.15->tensorflow) (0.4.0)\n",
            "Requirement already satisfied: rsa<5,>=3.1.4 in /usr/local/lib/python3.10/dist-packages (from google-auth<3,>=1.6.3->tensorboard<2.16,>=2.15->tensorflow) (4.9)\n",
            "Requirement already satisfied: requests-oauthlib>=0.7.0 in /usr/local/lib/python3.10/dist-packages (from google-auth-oauthlib<2,>=0.5->tensorboard<2.16,>=2.15->tensorflow) (1.3.1)\n",
            "Requirement already satisfied: charset-normalizer<4,>=2 in /usr/local/lib/python3.10/dist-packages (from requests<3,>=2.21.0->tensorboard<2.16,>=2.15->tensorflow) (3.3.2)\n",
            "Requirement already satisfied: idna<4,>=2.5 in /usr/local/lib/python3.10/dist-packages (from requests<3,>=2.21.0->tensorboard<2.16,>=2.15->tensorflow) (3.7)\n",
            "Requirement already satisfied: urllib3<3,>=1.21.1 in /usr/local/lib/python3.10/dist-packages (from requests<3,>=2.21.0->tensorboard<2.16,>=2.15->tensorflow) (2.0.7)\n",
            "Requirement already satisfied: certifi>=2017.4.17 in /usr/local/lib/python3.10/dist-packages (from requests<3,>=2.21.0->tensorboard<2.16,>=2.15->tensorflow) (2024.6.2)\n",
            "Requirement already satisfied: MarkupSafe>=2.1.1 in /usr/local/lib/python3.10/dist-packages (from werkzeug>=1.0.1->tensorboard<2.16,>=2.15->tensorflow) (2.1.5)\n",
            "Requirement already satisfied: pyasn1<0.7.0,>=0.4.6 in /usr/local/lib/python3.10/dist-packages (from pyasn1-modules>=0.2.1->google-auth<3,>=1.6.3->tensorboard<2.16,>=2.15->tensorflow) (0.6.0)\n",
            "Requirement already satisfied: oauthlib>=3.0.0 in /usr/local/lib/python3.10/dist-packages (from requests-oauthlib>=0.7.0->google-auth-oauthlib<2,>=0.5->tensorboard<2.16,>=2.15->tensorflow) (3.2.2)\n"
          ]
        }
      ]
    },
    {
      "cell_type": "markdown",
      "metadata": {
        "id": "OMiGHkMitRLw"
      },
      "source": [
        "### Evaluating the model\n",
        "\n"
      ]
    },
    {
      "cell_type": "code",
      "execution_count": null,
      "metadata": {
        "id": "dB6M_G89tUpB"
      },
      "outputs": [],
      "source": [
        "# Evaluate the accuracy and loss on the training set\n",
        "loss, accuracy = model.evaluate(x_train, y_train, verbose=True)\n",
        "print(\"Training Accuracy: {:.4f}\".format(accuracy))\n",
        "\n",
        "# Evaluate the accuracy and loss on the test set\n",
        "loss, accuracy = model.evaluate(x_test, y_test, verbose=False)\n",
        "print(\"Testing Accuracy:  {:.4f}\".format(accuracy))"
      ]
    },
    {
      "cell_type": "markdown",
      "source": [
        "**Model Evaluation**"
      ],
      "metadata": {
        "id": "f0tMNy76xIcV"
      }
    },
    {
      "cell_type": "code",
      "source": [
        "from tensorflow.keras.datasets import imdb\n",
        "from tensorflow.keras.preprocessing.sequence import pad_sequences\n",
        "\n",
        "# Calling the function to get the model\n",
        "model = get_cnn_model_v1()\n",
        "\n",
        "(x_train, y_train), (x_test, y_test) = imdb.load_data(num_words=10000)\n",
        "\n",
        "# Pad sequences to a fixed length\n",
        "x_train = pad_sequences(x_train, maxlen=maxlen)\n",
        "x_test = pad_sequences(x_test, maxlen=maxlen)\n",
        "\n",
        "# Evaluate the accuracy and loss on the training set\n",
        "loss, accuracy = model.evaluate(x_train, y_train, verbose=True)\n",
        "print(\"Training Accuracy: {:.4f}\".format(accuracy))\n",
        "\n",
        "# Evaluate the accuracy and loss on the test set\n",
        "loss, accuracy = model.evaluate(x_test, y_test, verbose=False)\n",
        "print(\"Testing Accuracy:  {:.4f}\".format(accuracy))"
      ],
      "metadata": {
        "colab": {
          "base_uri": "https://localhost:8080/"
        },
        "id": "Rk0K1ZLCrblA",
        "outputId": "820bd9a2-b779-4217-8166-c4e3bef9e4dd"
      },
      "execution_count": null,
      "outputs": [
        {
          "output_type": "stream",
          "name": "stdout",
          "text": [
            "Model: \"sequential_1\"\n",
            "_________________________________________________________________\n",
            " Layer (type)                Output Shape              Param #   \n",
            "=================================================================\n",
            " embedding_1 (Embedding)     (None, 1000, 100)         1000000   \n",
            "                                                                 \n",
            " dropout (Dropout)           (None, 1000, 100)         0         \n",
            "                                                                 \n",
            " conv1d_4 (Conv1D)           (None, 998, 128)          38528     \n",
            "                                                                 \n",
            " max_pooling1d (MaxPooling1  (None, 499, 128)          0         \n",
            " D)                                                              \n",
            "                                                                 \n",
            " conv1d_5 (Conv1D)           (None, 495, 128)          82048     \n",
            "                                                                 \n",
            " max_pooling1d_1 (MaxPoolin  (None, 247, 128)          0         \n",
            " g1D)                                                            \n",
            "                                                                 \n",
            " flatten (Flatten)           (None, 31616)             0         \n",
            "                                                                 \n",
            " dense_1 (Dense)             (None, 128)               4046976   \n",
            "                                                                 \n",
            " dropout_1 (Dropout)         (None, 128)               0         \n",
            "                                                                 \n",
            " dense_2 (Dense)             (None, 1)                 129       \n",
            "                                                                 \n",
            "=================================================================\n",
            "Total params: 5167681 (19.71 MB)\n",
            "Trainable params: 5167681 (19.71 MB)\n",
            "Non-trainable params: 0 (0.00 Byte)\n",
            "_________________________________________________________________\n",
            "782/782 [==============================] - 9s 5ms/step - loss: 0.6933 - accuracy: 0.5000\n",
            "Training Accuracy: 0.5000\n",
            "Testing Accuracy:  0.4999\n"
          ]
        }
      ]
    },
    {
      "cell_type": "markdown",
      "source": [
        "**Comment:** In this part of our code the accuracy is showing very low for both training and testing. I assume it is due to the fact that I have not completed multiple epochs for this part. But in visualization part for my model, it can be seen that the accuracy went upto 0.98"
      ],
      "metadata": {
        "id": "Cd-G7vGw6UyS"
      }
    },
    {
      "cell_type": "markdown",
      "metadata": {
        "id": "64OoW_8Cvw4A"
      },
      "source": [
        "### Visualize accuracy\n",
        "\n",
        "The following plots show the learning curves during training/test in terms of accuracy and loss.\n"
      ]
    },
    {
      "cell_type": "code",
      "execution_count": null,
      "metadata": {
        "id": "tQRz2whBv0JZ"
      },
      "outputs": [],
      "source": [
        "import matplotlib.pyplot as plt\n",
        "\n",
        "plt.style.use('ggplot')\n",
        "\n",
        "def plot_history(history):\n",
        "    acc = history.history['acc']\n",
        "    val_acc = history.history['val_acc']\n",
        "    loss = history.history['loss']\n",
        "    val_loss = history.history['val_loss']\n",
        "    x = range(1, len(acc) + 1)\n",
        "\n",
        "    plt.figure(figsize=(12, 5))\n",
        "    plt.subplot(1, 2, 1)\n",
        "    plt.plot(x, acc, 'b', label='Training acc')\n",
        "    plt.plot(x, val_acc, 'r', label='Validation acc')\n",
        "    plt.title('Training and validation accuracy')\n",
        "    plt.legend()\n",
        "    plt.subplot(1, 2, 2)\n",
        "    plt.plot(x, loss, 'b', label='Training loss')\n",
        "    plt.plot(x, val_loss, 'r', label='Validation loss')\n",
        "    plt.title('Training and validation loss')\n",
        "    plt.legend()\n"
      ]
    },
    {
      "cell_type": "code",
      "source": [
        "%matplotlib inline\n",
        "plot_history(history)"
      ],
      "metadata": {
        "id": "RVDt2hI7wbSI"
      },
      "execution_count": null,
      "outputs": []
    },
    {
      "cell_type": "markdown",
      "source": [
        "**Vizualizing**"
      ],
      "metadata": {
        "id": "Vg28LIIMwdW6"
      }
    },
    {
      "cell_type": "code",
      "source": [
        "from tensorflow.keras.datasets import imdb\n",
        "from tensorflow.keras.preprocessing.sequence import pad_sequences # Import pad_sequences\n",
        "import matplotlib.pyplot as plt\n",
        "\n",
        "plt.style.use('ggplot')\n",
        "\n",
        "def plot_history(history):\n",
        "    acc = history.history['accuracy']  # Access with 'accuracy'\n",
        "    val_acc = history.history['val_accuracy']  # Access with 'val_accuracy'\n",
        "    loss = history.history['loss']\n",
        "    val_loss = history.history['val_loss']\n",
        "    x = range(1, len(acc) + 1)\n",
        "\n",
        "    plt.figure(figsize=(12, 5))\n",
        "    plt.subplot(1, 2, 1)\n",
        "    plt.plot(x, acc, 'b', label='Training acc')\n",
        "    plt.plot(x, val_acc, 'r', label='Validation acc')\n",
        "    plt.title('Training and validation accuracy')\n",
        "    plt.legend()\n",
        "    plt.subplot(1, 2, 2)\n",
        "    plt.plot(x, loss, 'b', label='Training loss')\n",
        "    plt.plot(x, val_loss, 'r', label='Validation loss')\n",
        "    plt.title('Training and validation loss')\n",
        "    plt.legend()\n",
        "\n",
        "\n",
        "(x_train, y_train), (x_val, y_val) = imdb.load_data(num_words=5000)\n",
        "\n",
        "\n",
        "maxlen = 1000\n",
        "x_train = pad_sequences(x_train, maxlen=maxlen)\n",
        "x_val = pad_sequences(x_val, maxlen=maxlen)\n",
        "\n",
        "model = get_cnn_model_v1()\n",
        "\n",
        "model.compile(optimizer='adam', loss='binary_crossentropy', metrics=['accuracy'])\n",
        "\n",
        "history = model.fit(x_train, y_train, epochs=10, validation_data=(x_val, y_val))\n",
        "\n",
        "%matplotlib inline\n",
        "plot_history(history)"
      ],
      "metadata": {
        "colab": {
          "base_uri": "https://localhost:8080/",
          "height": 1203
        },
        "id": "RY6LJWCYt2VD",
        "outputId": "26b19527-c9d0-4547-c282-0a9282655d1c"
      },
      "execution_count": null,
      "outputs": [
        {
          "output_type": "stream",
          "name": "stdout",
          "text": [
            "Model: \"sequential_5\"\n",
            "_________________________________________________________________\n",
            " Layer (type)                Output Shape              Param #   \n",
            "=================================================================\n",
            " embedding_5 (Embedding)     (None, 1000, 100)         1000000   \n",
            "                                                                 \n",
            " dropout_10 (Dropout)        (None, 1000, 100)         0         \n",
            "                                                                 \n",
            " conv1d_10 (Conv1D)          (None, 998, 128)          38528     \n",
            "                                                                 \n",
            " max_pooling1d_10 (MaxPooli  (None, 499, 128)          0         \n",
            " ng1D)                                                           \n",
            "                                                                 \n",
            " conv1d_11 (Conv1D)          (None, 495, 128)          82048     \n",
            "                                                                 \n",
            " max_pooling1d_11 (MaxPooli  (None, 247, 128)          0         \n",
            " ng1D)                                                           \n",
            "                                                                 \n",
            " flatten_5 (Flatten)         (None, 31616)             0         \n",
            "                                                                 \n",
            " dense_10 (Dense)            (None, 128)               4046976   \n",
            "                                                                 \n",
            " dropout_11 (Dropout)        (None, 128)               0         \n",
            "                                                                 \n",
            " dense_11 (Dense)            (None, 1)                 129       \n",
            "                                                                 \n",
            "=================================================================\n",
            "Total params: 5167681 (19.71 MB)\n",
            "Trainable params: 5167681 (19.71 MB)\n",
            "Non-trainable params: 0 (0.00 Byte)\n",
            "_________________________________________________________________\n",
            "Epoch 1/10\n",
            "782/782 [==============================] - 552s 705ms/step - loss: 0.6935 - accuracy: 0.5001 - val_loss: 0.6854 - val_accuracy: 0.6327\n",
            "Epoch 2/10\n",
            "782/782 [==============================] - 535s 684ms/step - loss: 0.3418 - accuracy: 0.8508 - val_loss: 0.2835 - val_accuracy: 0.8838\n",
            "Epoch 3/10\n",
            "782/782 [==============================] - 538s 689ms/step - loss: 0.2172 - accuracy: 0.9181 - val_loss: 0.2707 - val_accuracy: 0.8897\n",
            "Epoch 4/10\n",
            "782/782 [==============================] - 531s 679ms/step - loss: 0.1644 - accuracy: 0.9391 - val_loss: 0.2842 - val_accuracy: 0.8882\n",
            "Epoch 5/10\n",
            "782/782 [==============================] - 535s 685ms/step - loss: 0.1279 - accuracy: 0.9541 - val_loss: 0.3332 - val_accuracy: 0.8826\n",
            "Epoch 6/10\n",
            "782/782 [==============================] - 531s 679ms/step - loss: 0.1038 - accuracy: 0.9626 - val_loss: 0.3846 - val_accuracy: 0.8794\n",
            "Epoch 7/10\n",
            "782/782 [==============================] - 530s 678ms/step - loss: 0.0764 - accuracy: 0.9734 - val_loss: 0.4389 - val_accuracy: 0.8719\n",
            "Epoch 8/10\n",
            "782/782 [==============================] - 535s 684ms/step - loss: 0.0643 - accuracy: 0.9769 - val_loss: 0.5485 - val_accuracy: 0.8743\n",
            "Epoch 9/10\n",
            "782/782 [==============================] - 577s 738ms/step - loss: 0.0521 - accuracy: 0.9810 - val_loss: 0.5305 - val_accuracy: 0.8700\n",
            "Epoch 10/10\n",
            "782/782 [==============================] - 536s 686ms/step - loss: 0.0451 - accuracy: 0.9838 - val_loss: 0.7080 - val_accuracy: 0.8673\n"
          ]
        },
        {
          "output_type": "display_data",
          "data": {
            "text/plain": [
              "<Figure size 1200x500 with 2 Axes>"
            ],
            "image/png": "[encoded data removed]"
          },
          "metadata": {}
        }
      ]
    },
    {
      "cell_type": "markdown",
      "source": [
        "**Saving the model**"
      ],
      "metadata": {
        "id": "nZnuBeUaXwom"
      }
    },
    {
      "cell_type": "code",
      "source": [
        "from keras.models import load_model\n",
        "from keras.models import Sequential\n",
        "from keras.layers import Embedding, Conv1D, GlobalMaxPooling1D, Dense\n",
        "\n",
        "\n",
        "model = Sequential()\n",
        "\n",
        "\n",
        "model.add(Embedding(10000, 128, input_length=100))\n",
        "model.add(Conv1D(32, 7, activation='relu'))\n",
        "model.add(GlobalMaxPooling1D())\n",
        "model.add(Dense(1, activation='sigmoid'))\n",
        "\n",
        "\n",
        "model.save('my_model.keras')\n",
        "\n",
        "\n",
        "loaded_model = load_model('my_model.keras')"
      ],
      "metadata": {
        "id": "L3fcqfmCx_OV"
      },
      "execution_count": null,
      "outputs": []
    },
    {
      "cell_type": "markdown",
      "metadata": {
        "id": "Ityrg0zWAqSE"
      },
      "source": [
        "## Character-based CNN for Text Classification\n",
        "\n"
      ]
    },
    {
      "cell_type": "code",
      "source": [
        "from keras.datasets import imdb\n",
        "from keras.preprocessing import sequence\n",
        "from keras.models import Sequential\n",
        "from keras.layers import Dense, Dropout, Activation, Flatten\n",
        "from keras.layers import Embedding, Input\n",
        "from keras.layers import Conv1D, MaxPooling1D\n",
        "from keras.utils.np_utils import to_categorical\n",
        "from keras.preprocessing.text import Tokenizer\n",
        "from keras.preprocessing.sequence import pad_sequences\n",
        "\n",
        "import numpy as np"
      ],
      "metadata": {
        "id": "462WYWxCe2fr"
      },
      "execution_count": null,
      "outputs": []
    },
    {
      "cell_type": "markdown",
      "source": [
        "Importing from correct module"
      ],
      "metadata": {
        "id": "djUk-J4Rh2lZ"
      }
    },
    {
      "cell_type": "code",
      "source": [
        "from keras.datasets import imdb\n",
        "from keras.preprocessing import sequence\n",
        "from keras.models import Sequential\n",
        "from keras.layers import Dense, Dropout, Activation, Flatten\n",
        "from keras.layers import Embedding, Input\n",
        "from keras.layers import Conv1D, MaxPooling1D\n",
        "from tensorflow.keras.utils import to_categorical # Imported from the correct module\n",
        "from keras.preprocessing.text import Tokenizer\n",
        "from keras.preprocessing.sequence import pad_sequences\n",
        "\n",
        "import numpy as np"
      ],
      "metadata": {
        "id": "2akm2WWZXB8z"
      },
      "execution_count": null,
      "outputs": []
    },
    {
      "cell_type": "markdown",
      "source": [
        "**Restoring sting**"
      ],
      "metadata": {
        "id": "unIFjAZAX6Z_"
      }
    },
    {
      "cell_type": "code",
      "source": [
        "def map_ids_to_words():\n",
        "\n",
        "    # Get word indexes from the imdb dataset\n",
        "    word_to_id = imdb.get_word_index()\n",
        "\n",
        "    # Shift with 3 (value + 3) the indexes in word_to_id\n",
        "    word_to_id = {k:(v+3) for k,v in word_to_id.items()}\n",
        "\n",
        "    # Indexes 0-3 are now taken by the following special characters: \"<PAD>\", \"<START>\", \"<UNK>\", \"<UNUSED>\".\n",
        "    word_to_id[\"<PAD>\"] = 0\n",
        "    word_to_id[\"<START>\"] = 1\n",
        "    word_to_id[\"<UNK>\"] = 2\n",
        "    word_to_id[\"<UNUSED>\"] = 3\n",
        "\n",
        "    # Reverse the roles in word_to_id (now the values become keys)\n",
        "    id_to_word = {value:key for key,value in word_to_id.items()}\n",
        "\n",
        "    return id_to_word\n",
        "\n",
        "\n",
        "def restore_text_data(dataset):\n",
        "\n",
        "    str_data = []\n",
        "\n",
        "    #  Get the corresponding words for the ids in the dataset.\n",
        "    id_to_word = map_ids_to_words()\n",
        "\n",
        "    # For each sample in the dataset, perform the conversion to string\n",
        "    for i in range(len(dataset)):\n",
        "        str_sample = ' '.join([id_to_word.get(id, '') for id in dataset[i]])\n",
        "        str_data.append(str_sample)\n",
        "\n",
        "    return str_data\n",
        "\n",
        "    #  Load the dataset\n",
        "(x_train, y_train), (x_test, y_test) = imdb.load_data(num_words=5000, index_from=3)\n",
        "\n",
        "#  Restore text data for both training and test\n",
        "X_train_str = restore_text_data(x_train)\n",
        "X_test_str = restore_text_data(x_test)"
      ],
      "metadata": {
        "id": "85mATBQAhHTl",
        "colab": {
          "base_uri": "https://localhost:8080/"
        },
        "outputId": "a888c221-2431-48ae-e82e-c9a76389a3db"
      },
      "execution_count": null,
      "outputs": [
        {
          "output_type": "stream",
          "name": "stdout",
          "text": [
            "Downloading data from https://storage.googleapis.com/tensorflow/tf-keras-datasets/imdb.npz\n",
            "17464789/17464789 [==============================] - 2s 0us/step\n",
            "Downloading data from https://storage.googleapis.com/tensorflow/tf-keras-datasets/imdb_word_index.json\n",
            "1641221/1641221 [==============================] - 1s 1us/step\n"
          ]
        }
      ]
    },
    {
      "cell_type": "markdown",
      "source": [
        "**Getting vocabulary and Creating tokenizer**"
      ],
      "metadata": {
        "id": "lgHP7QS4XzDY"
      }
    },
    {
      "cell_type": "code",
      "source": [
        "\n",
        "import tensorflow as tf\n",
        "from tensorflow import keras\n",
        "from tensorflow.keras.datasets import imdb\n",
        "from tensorflow.keras.preprocessing.text import Tokenizer\n",
        "\n",
        "\n",
        "\n",
        "def get_vocabulary(X_train_str):\n",
        "\n",
        "    txt = ''\n",
        "    for document in X_train_str:\n",
        "        for char in document:\n",
        "            txt += char\n",
        "    return set(txt)\n",
        "\n",
        "\n",
        "def create_tokenizer(X_train_str, chars):\n",
        "\n",
        "    # Initialize the Tokenizer\n",
        "    tk = Tokenizer(char_level=True, oov_token='UNK')\n",
        "\n",
        "    #  Fit the tokenizer on the training data\n",
        "    tk.fit_on_texts(X_train_str)\n",
        "\n",
        "    #  Build a character dictionary based on our alphabet (chars)\n",
        "    char_dict = {}\n",
        "    for i, char in enumerate(chars):\n",
        "        char_dict[char] = i\n",
        "\n",
        "    return tk"
      ],
      "metadata": {
        "id": "vLLWwFHEXlZ8"
      },
      "execution_count": null,
      "outputs": []
    },
    {
      "cell_type": "markdown",
      "source": [
        "**Conversions**"
      ],
      "metadata": {
        "id": "rnpSz55GYvVZ"
      }
    },
    {
      "cell_type": "code",
      "source": [
        "import tensorflow as tf\n",
        "from tensorflow import keras\n",
        "from tensorflow.keras.datasets import imdb\n",
        "from tensorflow.keras.preprocessing.text import Tokenizer\n",
        "from tensorflow.keras.preprocessing.sequence import pad_sequences\n",
        "\n",
        "\n",
        "\n",
        "def preprocess_dataset(dataset, tk):\n",
        "\n",
        "    # Convert string to index\n",
        "    sequences = tk.texts_to_sequences(dataset)\n",
        "\n",
        "    #  Padding\n",
        "\n",
        "    proc_data = pad_sequences(sequences, maxlen=1024)\n",
        "\n",
        "    #  Convert to numpy array\n",
        "    proc_data = np.array(proc_data)\n",
        "\n",
        "    return proc_data\n",
        "\n",
        "chars = get_vocabulary(X_train_str)\n",
        "tk = create_tokenizer(X_train_str, chars)\n",
        "\n",
        "train_data = preprocess_dataset(X_train_str, tk)\n",
        "test_data = preprocess_dataset(X_test_str, tk)\n",
        "\n",
        "vocab_size = len(tk.word_index)\n",
        "\n",
        "print(\"vocabulary: \", tk.word_index)\n",
        "print(\"vocabulary size: \", vocab_size)"
      ],
      "metadata": {
        "colab": {
          "base_uri": "https://localhost:8080/"
        },
        "id": "h1yHCqGqZITf",
        "outputId": "010e8a71-d5a1-4f1b-9dfb-1dac54a870fa"
      },
      "execution_count": null,
      "outputs": [
        {
          "output_type": "stream",
          "name": "stdout",
          "text": [
            "vocabulary:  {'UNK': 1, ' ': 2, 'e': 3, 't': 4, 'n': 5, 'a': 6, 'o': 7, 'i': 8, 's': 9, 'h': 10, 'r': 11, 'u': 12, 'l': 13, 'k': 14, 'd': 15, '<': 16, '>': 17, 'm': 18, 'c': 19, 'f': 20, 'w': 21, 'y': 22, 'b': 23, 'g': 24, 'p': 25, 'v': 26, \"'\": 27, 'j': 28, 'x': 29, '0': 30, 'q': 31, '1': 32, 'z': 33, '2': 34, '9': 35, '3': 36, '5': 37, '8': 38, '4': 39, '7': 40, '6': 41, '\\x96': 42, 'é': 43}\n",
            "vocabulary size:  43\n"
          ]
        }
      ]
    },
    {
      "cell_type": "code",
      "source": [
        "y_train = to_categorical(y_train)\n"
      ],
      "metadata": {
        "id": "kWiATOheZt2U"
      },
      "execution_count": null,
      "outputs": []
    },
    {
      "cell_type": "code",
      "source": [
        "y_test = to_categorical(y_test)\n"
      ],
      "metadata": {
        "id": "wg5ItFKuZ01r"
      },
      "execution_count": null,
      "outputs": []
    },
    {
      "cell_type": "markdown",
      "source": [
        "**Loading the embedded weights**"
      ],
      "metadata": {
        "id": "1p8hx3R6aMhd"
      }
    },
    {
      "cell_type": "code",
      "source": [
        "def load_embedding_weights(tk, vocab_size):\n",
        "\n",
        "    embedding_weights = [] #(51, 50)\n",
        "\n",
        "    #  Append zero vector to represent the PAD\n",
        "    embedding_weights.append(np.zeros(embedding_size))\n",
        "\n",
        "    #  One-hot repres of the characters\n",
        "    for char, i in tk.word_index.items():\n",
        "        onehot = np.zeros(embedding_size)\n",
        "        onehot[i-1] = 1\n",
        "        embedding_weights.append(onehot)\n",
        "\n",
        "    # Convert to a numpy array\n",
        "    embedding_weights = np.array(embedding_weights)\n",
        "\n",
        "    return embedding_weights"
      ],
      "metadata": {
        "id": "rhDGT49VdNk9"
      },
      "execution_count": null,
      "outputs": []
    },
    {
      "cell_type": "markdown",
      "source": [
        "**Creating model**"
      ],
      "metadata": {
        "id": "tPvROY7aanvp"
      }
    },
    {
      "cell_type": "code",
      "source": [
        "import tensorflow as tf\n",
        "from tensorflow import keras\n",
        "from tensorflow.keras.layers import Embedding, Conv1D, GlobalMaxPooling1D, Dense, Dropout\n",
        "import numpy as np # Import numpy for array operations\n",
        "\n",
        "input_size = 1024\n",
        "embedding_size = 50\n",
        "num_of_classes = 2\n",
        "dropout_p = 0.5\n",
        "optimizer = 'adam'\n",
        "loss = \"binary_crossentropy\"\n",
        "\n",
        "# Modified conv_layers - dilation rate should be positive integers\n",
        "conv_layers = [[128, 7, 3], [128, 5, 1], [128, 3, 1], [128, 3, 3]]\n",
        "\n",
        "# Assuming 'tk' is your tokenizer, replace with the actual variable name\n",
        "vocab_size = len(tk.word_index)\n",
        "\n",
        "# Call the function to generate embedding weights\n",
        "embedding_matrix = load_embedding_weights(tk, vocab_size)\n",
        "\n",
        "def build_model_2():\n",
        "    # Instantiate the model\n",
        "    model = keras.Sequential()\n",
        "\n",
        "    # Add an Embedding layer\n",
        "    model.add(Embedding(vocab_size+1, embedding_size, input_length=input_size, weights=[embedding_matrix], trainable=False))\n",
        "\n",
        "    #Add Convolutional layers\n",
        "    for num_filters, filter_size, dilation_rate in conv_layers:\n",
        "        model.add(Conv1D(num_filters, filter_size, activation='relu', dilation_rate=dilation_rate, padding='same'))\n",
        "\n",
        "    # Add a Global Max Pooling layer\n",
        "    model.add(GlobalMaxPooling1D())\n",
        "\n",
        "    # Add a Dense layer for classification\n",
        "    model.add(Dense(num_of_classes, activation='softmax'))\n",
        "\n",
        "    #  Compile the model\n",
        "    model.compile(optimizer=optimizer, loss=loss, metrics=['accuracy'])\n",
        "\n",
        "    return model\n",
        "\n",
        "# Build and summarize the model\n",
        "model = build_model_2()\n",
        "print(model.summary())"
      ],
      "metadata": {
        "colab": {
          "base_uri": "https://localhost:8080/"
        },
        "id": "vzN-u0AsdhCs",
        "outputId": "62e8f9dd-f422-4216-de28-cccaed7df5d5"
      },
      "execution_count": null,
      "outputs": [
        {
          "output_type": "stream",
          "name": "stdout",
          "text": [
            "Model: \"sequential\"\n",
            "_________________________________________________________________\n",
            " Layer (type)                Output Shape              Param #   \n",
            "=================================================================\n",
            " embedding (Embedding)       (None, 1024, 50)          2200      \n",
            "                                                                 \n",
            " conv1d (Conv1D)             (None, 1024, 128)         44928     \n",
            "                                                                 \n",
            " conv1d_1 (Conv1D)           (None, 1024, 128)         82048     \n",
            "                                                                 \n",
            " conv1d_2 (Conv1D)           (None, 1024, 128)         49280     \n",
            "                                                                 \n",
            " conv1d_3 (Conv1D)           (None, 1024, 128)         49280     \n",
            "                                                                 \n",
            " global_max_pooling1d (Glob  (None, 128)               0         \n",
            " alMaxPooling1D)                                                 \n",
            "                                                                 \n",
            " dense (Dense)               (None, 2)                 258       \n",
            "                                                                 \n",
            "=================================================================\n",
            "Total params: 227994 (890.60 KB)\n",
            "Trainable params: 225794 (882.01 KB)\n",
            "Non-trainable params: 2200 (8.59 KB)\n",
            "_________________________________________________________________\n",
            "None\n"
          ]
        }
      ]
    },
    {
      "cell_type": "markdown",
      "metadata": {
        "id": "ad7YlXucTiy3"
      },
      "source": [
        "### Train the model\n",
        "\n",
        "I have experimented with batch size 128, 10 epochs and the train and validation (test_data) as parameters. Verbose should be 1 in order to follow how the training progresses."
      ]
    },
    {
      "cell_type": "markdown",
      "source": [
        "**Training the model**"
      ],
      "metadata": {
        "id": "4t6Bl_Y2ZMOi"
      }
    },
    {
      "cell_type": "code",
      "source": [
        "from sklearn.model_selection import train_test_split\n",
        "\n",
        "\n",
        "\n",
        "history2 = model.fit(train_data, y_train, epochs=10, validation_data=(test_data, y_test))\n"
      ],
      "metadata": {
        "colab": {
          "base_uri": "https://localhost:8080/",
          "height": 619
        },
        "id": "VuGVyycBeWgn",
        "outputId": "ed192bcf-52c4-4a14-cd5e-1fdf9b2cf4f8"
      },
      "execution_count": null,
      "outputs": [
        {
          "output_type": "stream",
          "name": "stdout",
          "text": [
            "Epoch 1/10\n"
          ]
        },
        {
          "output_type": "error",
          "ename": "ValueError",
          "evalue": "in user code:\n\n    File \"/usr/local/lib/python3.10/dist-packages/keras/src/engine/training.py\", line 1401, in train_function  *\n        return step_function(self, iterator)\n    File \"/usr/local/lib/python3.10/dist-packages/keras/src/engine/training.py\", line 1384, in step_function  **\n        outputs = model.distribute_strategy.run(run_step, args=(data,))\n    File \"/usr/local/lib/python3.10/dist-packages/keras/src/engine/training.py\", line 1373, in run_step  **\n        outputs = model.train_step(data)\n    File \"/usr/local/lib/python3.10/dist-packages/keras/src/engine/training.py\", line 1150, in train_step\n        y_pred = self(x, training=True)\n    File \"/usr/local/lib/python3.10/dist-packages/keras/src/utils/traceback_utils.py\", line 70, in error_handler\n        raise e.with_traceback(filtered_tb) from None\n    File \"/usr/local/lib/python3.10/dist-packages/keras/src/engine/input_spec.py\", line 298, in assert_input_compatibility\n        raise ValueError(\n\n    ValueError: Input 0 of layer \"sequential_1\" is incompatible with the layer: expected shape=(None, 1000), found shape=(None, 1024)\n",
          "traceback": [
            "\u001b[0;31m---------------------------------------------------------------------------\u001b[0m",
            "\u001b[0;31mValueError\u001b[0m                                Traceback (most recent call last)",
            "\u001b[0;32m<ipython-input-17-a9c1737e279f>\u001b[0m in \u001b[0;36m<cell line: 5>\u001b[0;34m()\u001b[0m\n\u001b[1;32m      3\u001b[0m \u001b[0;34m\u001b[0m\u001b[0m\n\u001b[1;32m      4\u001b[0m \u001b[0;34m\u001b[0m\u001b[0m\n\u001b[0;32m----> 5\u001b[0;31m \u001b[0mhistory2\u001b[0m \u001b[0;34m=\u001b[0m \u001b[0mmodel\u001b[0m\u001b[0;34m.\u001b[0m\u001b[0mfit\u001b[0m\u001b[0;34m(\u001b[0m\u001b[0mtrain_data\u001b[0m\u001b[0;34m,\u001b[0m \u001b[0my_train\u001b[0m\u001b[0;34m,\u001b[0m \u001b[0mepochs\u001b[0m\u001b[0;34m=\u001b[0m\u001b[0;36m10\u001b[0m\u001b[0;34m,\u001b[0m \u001b[0mvalidation_data\u001b[0m\u001b[0;34m=\u001b[0m\u001b[0;34m(\u001b[0m\u001b[0mtest_data\u001b[0m\u001b[0;34m,\u001b[0m \u001b[0my_test\u001b[0m\u001b[0;34m)\u001b[0m\u001b[0;34m)\u001b[0m\u001b[0;34m\u001b[0m\u001b[0;34m\u001b[0m\u001b[0m\n\u001b[0m",
            "\u001b[0;32m/usr/local/lib/python3.10/dist-packages/keras/src/utils/traceback_utils.py\u001b[0m in \u001b[0;36merror_handler\u001b[0;34m(*args, **kwargs)\u001b[0m\n\u001b[1;32m     68\u001b[0m             \u001b[0;31m# To get the full stack trace, call:\u001b[0m\u001b[0;34m\u001b[0m\u001b[0;34m\u001b[0m\u001b[0m\n\u001b[1;32m     69\u001b[0m             \u001b[0;31m# `tf.debugging.disable_traceback_filtering()`\u001b[0m\u001b[0;34m\u001b[0m\u001b[0;34m\u001b[0m\u001b[0m\n\u001b[0;32m---> 70\u001b[0;31m             \u001b[0;32mraise\u001b[0m \u001b[0me\u001b[0m\u001b[0;34m.\u001b[0m\u001b[0mwith_traceback\u001b[0m\u001b[0;34m(\u001b[0m\u001b[0mfiltered_tb\u001b[0m\u001b[0;34m)\u001b[0m \u001b[0;32mfrom\u001b[0m \u001b[0;32mNone\u001b[0m\u001b[0;34m\u001b[0m\u001b[0;34m\u001b[0m\u001b[0m\n\u001b[0m\u001b[1;32m     71\u001b[0m         \u001b[0;32mfinally\u001b[0m\u001b[0;34m:\u001b[0m\u001b[0;34m\u001b[0m\u001b[0;34m\u001b[0m\u001b[0m\n\u001b[1;32m     72\u001b[0m             \u001b[0;32mdel\u001b[0m \u001b[0mfiltered_tb\u001b[0m\u001b[0;34m\u001b[0m\u001b[0;34m\u001b[0m\u001b[0m\n",
            "\u001b[0;32m/usr/local/lib/python3.10/dist-packages/keras/src/engine/training.py\u001b[0m in \u001b[0;36mtf__train_function\u001b[0;34m(iterator)\u001b[0m\n\u001b[1;32m     13\u001b[0m                 \u001b[0;32mtry\u001b[0m\u001b[0;34m:\u001b[0m\u001b[0;34m\u001b[0m\u001b[0;34m\u001b[0m\u001b[0m\n\u001b[1;32m     14\u001b[0m                     \u001b[0mdo_return\u001b[0m \u001b[0;34m=\u001b[0m \u001b[0;32mTrue\u001b[0m\u001b[0;34m\u001b[0m\u001b[0;34m\u001b[0m\u001b[0m\n\u001b[0;32m---> 15\u001b[0;31m                     \u001b[0mretval_\u001b[0m \u001b[0;34m=\u001b[0m \u001b[0mag__\u001b[0m\u001b[0;34m.\u001b[0m\u001b[0mconverted_call\u001b[0m\u001b[0;34m(\u001b[0m\u001b[0mag__\u001b[0m\u001b[0;34m.\u001b[0m\u001b[0mld\u001b[0m\u001b[0;34m(\u001b[0m\u001b[0mstep_function\u001b[0m\u001b[0;34m)\u001b[0m\u001b[0;34m,\u001b[0m \u001b[0;34m(\u001b[0m\u001b[0mag__\u001b[0m\u001b[0;34m.\u001b[0m\u001b[0mld\u001b[0m\u001b[0;34m(\u001b[0m\u001b[0mself\u001b[0m\u001b[0;34m)\u001b[0m\u001b[0;34m,\u001b[0m \u001b[0mag__\u001b[0m\u001b[0;34m.\u001b[0m\u001b[0mld\u001b[0m\u001b[0;34m(\u001b[0m\u001b[0miterator\u001b[0m\u001b[0;34m)\u001b[0m\u001b[0;34m)\u001b[0m\u001b[0;34m,\u001b[0m \u001b[0;32mNone\u001b[0m\u001b[0;34m,\u001b[0m \u001b[0mfscope\u001b[0m\u001b[0;34m)\u001b[0m\u001b[0;34m\u001b[0m\u001b[0;34m\u001b[0m\u001b[0m\n\u001b[0m\u001b[1;32m     16\u001b[0m                 \u001b[0;32mexcept\u001b[0m\u001b[0;34m:\u001b[0m\u001b[0;34m\u001b[0m\u001b[0;34m\u001b[0m\u001b[0m\n\u001b[1;32m     17\u001b[0m                     \u001b[0mdo_return\u001b[0m \u001b[0;34m=\u001b[0m \u001b[0;32mFalse\u001b[0m\u001b[0;34m\u001b[0m\u001b[0;34m\u001b[0m\u001b[0m\n",
            "\u001b[0;31mValueError\u001b[0m: in user code:\n\n    File \"/usr/local/lib/python3.10/dist-packages/keras/src/engine/training.py\", line 1401, in train_function  *\n        return step_function(self, iterator)\n    File \"/usr/local/lib/python3.10/dist-packages/keras/src/engine/training.py\", line 1384, in step_function  **\n        outputs = model.distribute_strategy.run(run_step, args=(data,))\n    File \"/usr/local/lib/python3.10/dist-packages/keras/src/engine/training.py\", line 1373, in run_step  **\n        outputs = model.train_step(data)\n    File \"/usr/local/lib/python3.10/dist-packages/keras/src/engine/training.py\", line 1150, in train_step\n        y_pred = self(x, training=True)\n    File \"/usr/local/lib/python3.10/dist-packages/keras/src/utils/traceback_utils.py\", line 70, in error_handler\n        raise e.with_traceback(filtered_tb) from None\n    File \"/usr/local/lib/python3.10/dist-packages/keras/src/engine/input_spec.py\", line 298, in assert_input_compatibility\n        raise ValueError(\n\n    ValueError: Input 0 of layer \"sequential_1\" is incompatible with the layer: expected shape=(None, 1000), found shape=(None, 1024)\n"
          ]
        }
      ]
    },
    {
      "cell_type": "markdown",
      "metadata": {
        "id": "TOHiRwzDUBQ5"
      },
      "source": [
        "### Evaluate the model\n",
        "\n"
      ]
    },
    {
      "cell_type": "markdown",
      "source": [
        "**Accuracy**"
      ],
      "metadata": {
        "id": "U-YbZuiAoe8O"
      }
    },
    {
      "cell_type": "code",
      "source": [
        "# Evaluate the accuracy and loss on the training set\n",
        "loss, accuracy = model.evaluate(train_data, y_train, verbose=False)\n",
        "print(\"Training Accuracy: {:.4f}\".format(accuracy))\n",
        "\n",
        "#  Evaluate the accuracy and loss on the test set\n",
        "loss, accuracy = model.evaluate(test_data, y_test, verbose=False)\n",
        "print(\"Testing Accuracy:  {:.4f}\".format(accuracy))"
      ],
      "metadata": {
        "colab": {
          "base_uri": "https://localhost:8080/"
        },
        "id": "zDuY0fMwoi3g",
        "outputId": "a18f6618-a2e4-4432-f97a-a6485eeb8f3a"
      },
      "execution_count": null,
      "outputs": [
        {
          "output_type": "stream",
          "name": "stdout",
          "text": [
            "Training Accuracy: 0.9846\n",
            "Testing Accuracy:  0.7956\n"
          ]
        }
      ]
    },
    {
      "cell_type": "markdown",
      "source": [
        "**Plotting accuracy**"
      ],
      "metadata": {
        "id": "Gm0-ES9Uo74G"
      }
    },
    {
      "cell_type": "code",
      "source": [
        "# Plot the learning curves\n",
        "%matplotlib inline\n",
        "\n",
        "def plot_history(history):\n",
        "\n",
        "  import matplotlib.pyplot as plt\n",
        "  plt.plot(history.history['accuracy'])\n",
        "  plt.title('model accuracy')\n",
        "  plt.ylabel('accuracy')\n",
        "  plt.xlabel('epoch')\n",
        "  plt.legend(['train'], loc='upper left')\n",
        "  plt.show()\n",
        "\n",
        "plot_history(history2)"
      ],
      "metadata": {
        "colab": {
          "base_uri": "https://localhost:8080/",
          "height": 472
        },
        "id": "nypFhTLto_NG",
        "outputId": "2ef8c986-b77f-43a2-f0ec-659a14d2b938"
      },
      "execution_count": null,
      "outputs": [
        {
          "output_type": "display_data",
          "data": {
            "text/plain": [
              "<Figure size 640x480 with 1 Axes>"
            ],
            "image/png": "[encoded data removed]"
          },
          "metadata": {}
        }
      ]
    }
  ],
  "metadata": {
    "accelerator": "GPU",
    "colab": {
      "machine_shape": "hm",
      "provenance": []
    },
    "kernelspec": {
      "display_name": "Python 3 (ipykernel)",
      "language": "python",
      "name": "python3"
    },
    "language_info": {
      "codemirror_mode": {
        "name": "ipython",
        "version": 3
      },
      "file_extension": ".py",
      "mimetype": "text/x-python",
      "name": "python",
      "nbconvert_exporter": "python",
      "pygments_lexer": "ipython3",
      "version": "3.11.4"
    }
  },
  "nbformat": 4,
  "nbformat_minor": 0
}